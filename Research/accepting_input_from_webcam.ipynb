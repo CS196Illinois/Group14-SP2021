{
  "nbformat": 4,
  "nbformat_minor": 0,
  "metadata": {
    "colab": {
      "name": "Untitled1.ipynb",
      "provenance": [],
      "collapsed_sections": []
    },
    "kernelspec": {
      "name": "python3",
      "display_name": "Python 3"
    },
    "language_info": {
      "name": "python"
    }
  },
  "cells": [
    {
      "cell_type": "code",
      "metadata": {
        "id": "ogk1V5DtfHY-"
      },
      "source": [
        "import cv2\n",
        "import tensorflow as tf\n",
        "import numpy as np\n",
        "from PIL import Image"
      ],
      "execution_count": 1,
      "outputs": []
    },
    {
      "cell_type": "markdown",
      "metadata": {
        "id": "coOLmU8WgfXl"
      },
      "source": [
        "vc.read returns a boolean (ret) that's true if an image is successfully captured, false otherwise, and the image that is captured."
      ]
    },
    {
      "cell_type": "code",
      "metadata": {
        "id": "YTeiQtLVfL_A"
      },
      "source": [
        "vc = cv2.VideoCapture(0)\n",
        "ret, captured = vc.read()"
      ],
      "execution_count": 5,
      "outputs": []
    },
    {
      "cell_type": "code",
      "metadata": {
        "id": "g-cAWMNLtU3n"
      },
      "source": [
        "model_dir = ''\n",
        "if ret:\n",
        "    #resize the captured image so that it's the same size as the expected input.\n",
        "    temp = Image.fromarray(captured, 'RGB')\n",
        "    resized_img = temp.resize((128, 128))\n",
        "    img_input = np.asarray(resized_img)\n",
        "    #loads trained model and predict the captured image.\n",
        "    model = tf.keras.models.load_model(model_dir)\n",
        "    print(model.predict(np.asarray([img_input])))\n",
        "else:\n",
        "    print('failed to capture image!')"
      ],
      "execution_count": null,
      "outputs": []
    }
  ]
}