{
 "cells": [
  {
   "cell_type": "code",
   "execution_count": 22,
   "id": "retained-dubai",
   "metadata": {},
   "outputs": [
    {
     "name": "stdout",
     "output_type": "stream",
     "text": [
      "Done\n"
     ]
    }
   ],
   "source": [
    "from PIL import Image\n",
    "import os, sys\n",
    "\n",
    "path = r\"C:\\Users\\elife\\Documents\\Jupyter-Notebook\\MaskClassification\\CMFD\\03000\"\n",
    "dirs = os.listdir( path )\n",
    "\n",
    "for item in dirs:\n",
    "    if os.path.isfile(path+'\\\\'+item):\n",
    "        im = Image.open(path+'\\\\'+item)\n",
    "        f, e = os.path.splitext(path+'\\\\'+item)\n",
    "        imResize = im.resize((256,256), Image.ANTIALIAS)\n",
    "        imResize.save(r'C:\\Users\\elife\\Documents\\Jupyter-Notebook\\MaskClassification\\CMFD-LowerRes\\03000'+'\\\\'+item, 'JPEG', quality=90)\n",
    "print('Done')"
   ]
  },
  {
   "cell_type": "code",
   "execution_count": null,
   "id": "secure-kinase",
   "metadata": {},
   "outputs": [],
   "source": []
  }
 ],
 "metadata": {
  "kernelspec": {
   "display_name": "Python 3",
   "language": "python",
   "name": "python3"
  },
  "language_info": {
   "codemirror_mode": {
    "name": "ipython",
    "version": 3
   },
   "file_extension": ".py",
   "mimetype": "text/x-python",
   "name": "python",
   "nbconvert_exporter": "python",
   "pygments_lexer": "ipython3",
   "version": "3.8.8"
  }
 },
 "nbformat": 4,
 "nbformat_minor": 5
}
